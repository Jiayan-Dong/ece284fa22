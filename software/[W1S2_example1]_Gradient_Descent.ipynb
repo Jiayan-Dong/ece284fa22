{
 "cells": [
  {
   "cell_type": "code",
   "execution_count": 2,
   "id": "miniature-siemens",
   "metadata": {},
   "outputs": [
    {
     "name": "stdout",
     "output_type": "stream",
     "text": [
      "0 -th iteration loss: 8.140911505433767\n",
      "100 -th iteration loss: 0.5639707656013265\n",
      "200 -th iteration loss: 0.45919959338459926\n",
      "300 -th iteration loss: 0.3747224638513227\n",
      "400 -th iteration loss: 0.3059492721023767\n",
      "500 -th iteration loss: 0.2499585970099669\n",
      "600 -th iteration loss: 0.2043729844619454\n",
      "700 -th iteration loss: 0.167257429933592\n",
      "800 -th iteration loss: 0.13703699604899597\n",
      "900 -th iteration loss: 0.1124297761029237\n",
      "1000 -th iteration loss: 0.09239234384005181\n",
      "1100 -th iteration loss: 0.07607536290826647\n",
      "1200 -th iteration loss: 0.06278746305936311\n",
      "1300 -th iteration loss: 0.05196584297455341\n",
      "1400 -th iteration loss: 0.04315234662172627\n",
      "1500 -th iteration loss: 0.035973993571994906\n",
      "1600 -th iteration loss: 0.030127133692513852\n",
      "1700 -th iteration loss: 0.02536455120773992\n",
      "1800 -th iteration loss: 0.02148496888527562\n",
      "1900 -th iteration loss: 0.01832450542678364\n",
      "2000 -th iteration loss: 0.01574972239909253\n",
      "2100 -th iteration loss: 0.013651964780506691\n",
      "2200 -th iteration loss: 0.011942754314607978\n",
      "2300 -th iteration loss: 0.010550039711324373\n",
      "2400 -th iteration loss: 0.00941514422690858\n",
      "2500 -th iteration loss: 0.008490280847991279\n",
      "2600 -th iteration loss: 0.007736529467016663\n",
      "2700 -th iteration loss: 0.007122190097899834\n",
      "2800 -th iteration loss: 0.0066214421802986275\n",
      "2900 -th iteration loss: 0.006213253040779531\n",
      "Result: y = 0.016917626881141564 + 0.8062261144542902 x + -0.002918572147523341 x^2 + -0.08614510878060277 x^3\n"
     ]
    },
    {
     "data": {
      "text/plain": [
       "<matplotlib.legend.Legend at 0x212bc3145b0>"
      ]
     },
     "execution_count": 2,
     "metadata": {},
     "output_type": "execute_result"
    },
    {
     "data": {
      "image/png": "[encoded data removed]",
      "text/plain": [
       "<Figure size 432x288 with 1 Axes>"
      ]
     },
     "metadata": {
      "needs_background": "light"
     },
     "output_type": "display_data"
    }
   ],
   "source": [
    "import numpy as np  ## numpy is general purpose array processing package\n",
    "import math\n",
    "import matplotlib.pyplot as plt\n",
    "\n",
    "# Create random input and output data\n",
    "x = np.linspace(-math.pi, math.pi, 2000)\n",
    "y = np.sin(x)\n",
    "\n",
    "# Randomly initialize weights: these will be trained\n",
    "a = np.random.randn()\n",
    "b = np.random.randn()\n",
    "c = np.random.randn()\n",
    "d = np.random.randn()\n",
    "\n",
    "learning_rate = 1e-3\n",
    "learning_epoch = 3000\n",
    "\n",
    "for t in range(learning_epoch):\n",
    "    # Forward pass: compute predicted y\n",
    "    # y = a + b x + c x^2 + d x^3\n",
    "    y_pred = a + b * x + c * x ** 2 + d * x ** 3\n",
    "\n",
    "    # Compute and print loss\n",
    "    loss = np.square(y_pred - y).sum()/len(y) # Mean Square Error\n",
    "    if t % 100 == 0:\n",
    "        print(t,'-th iteration loss:', loss)\n",
    "\n",
    "    # Backprop to compute gradients of a, b, c, d with respect to loss\n",
    "    grad_y_pred = 2.0 * (y_pred - y)/len(y)\n",
    "    grad_a = grad_y_pred.sum()\n",
    "    grad_b = (grad_y_pred * x).sum()\n",
    "    grad_c = (grad_y_pred * x ** 2).sum()\n",
    "    grad_d = (grad_y_pred * x ** 3).sum()\n",
    "\n",
    "    # Update weights\n",
    "    a -= learning_rate * grad_a\n",
    "    b -= learning_rate * grad_b\n",
    "    c -= learning_rate * grad_c\n",
    "    d -= learning_rate * grad_d\n",
    "\n",
    "print(f'Result: y = {a} + {b} x + {c} x^2 + {d} x^3')  ## f' allows to embed any variable inside the string.\n",
    "\n",
    "plt.plot(x, y,      label = \"Answer\")\n",
    "plt.plot(x, y_pred, label = \"Predicted\")\n",
    "# show a legend on the plot\n",
    "plt.legend()"
   ]
  },
  {
   "cell_type": "code",
   "execution_count": null,
   "id": "functional-booking",
   "metadata": {},
   "outputs": [],
   "source": []
  },
  {
   "cell_type": "code",
   "execution_count": null,
   "id": "fleet-packet",
   "metadata": {},
   "outputs": [],
   "source": []
  },
  {
   "cell_type": "code",
   "execution_count": null,
   "id": "prostate-survivor",
   "metadata": {},
   "outputs": [],
   "source": []
  },
  {
   "cell_type": "code",
   "execution_count": null,
   "id": "anticipated-light",
   "metadata": {},
   "outputs": [],
   "source": []
  }
 ],
 "metadata": {
  "kernelspec": {
   "display_name": "Python 3.8.8 ('base')",
   "language": "python",
   "name": "python3"
  },
  "language_info": {
   "codemirror_mode": {
    "name": "ipython",
    "version": 3
   },
   "file_extension": ".py",
   "mimetype": "text/x-python",
   "name": "python",
   "nbconvert_exporter": "python",
   "pygments_lexer": "ipython3",
   "version": "3.8.8"
  },
  "vscode": {
   "interpreter": {
    "hash": "ad2bdc8ecc057115af97d19610ffacc2b4e99fae6737bb82f5d7fb13d2f2c186"
   }
  }
 },
 "nbformat": 4,
 "nbformat_minor": 5
}
